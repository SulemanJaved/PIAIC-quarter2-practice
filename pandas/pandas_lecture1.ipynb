{
 "cells": [
  {
   "cell_type": "code",
   "execution_count": 40,
   "metadata": {},
   "outputs": [
    {
     "name": "stdout",
     "output_type": "stream",
     "text": [
      "   Ohio  Texas  California\n",
      "a     0      1           2\n",
      "c     3      4           5\n",
      "d     6      7           8\n",
      "e     9     10          11\n",
      "   Texas  Utah  California  Ohio\n",
      "a      1   NaN           2     0\n",
      "c      4   NaN           5     3\n",
      "d      7   NaN           8     6\n",
      "e     10   NaN          11     9\n"
     ]
    }
   ],
   "source": [
    "import numpy as np\n",
    "import pandas as pd\n",
    "\n",
    "states = pd.DataFrame(np.arange(12).reshape((4,3)), index=['a', 'c', 'd', 'e'], columns=['Ohio', 'Texas', 'California'])\n",
    "print(states)\n",
    "\n",
    "states_name = ['Texas', 'Utah', 'California', 'Ohio']\n",
    "states = states.reindex(columns=states_name)\n",
    "print(states)\n"
   ]
  },
  {
   "cell_type": "code",
   "execution_count": 41,
   "metadata": {},
   "outputs": [
    {
     "name": "stdout",
     "output_type": "stream",
     "text": [
      "   Texas  Utah  California  Ohio\n",
      "a      1   NaN           2     0\n",
      "c      4   1.0           5     3\n",
      "d      7   NaN           8     6\n",
      "e     10   NaN          11     9\n"
     ]
    }
   ],
   "source": [
    "states.loc['c', 'Utah'] = 1\n",
    "print(states)"
   ]
  },
  {
   "cell_type": "code",
   "execution_count": 42,
   "metadata": {},
   "outputs": [
    {
     "name": "stdout",
     "output_type": "stream",
     "text": [
      "   Texas  Utah  California  Ohio\n",
      "a      1   NaN           2     0\n",
      "c      4   1.0           5     3\n",
      "d      7   2.0           8     6\n",
      "e     10   NaN          11     9\n"
     ]
    }
   ],
   "source": [
    "states.iloc[2,1] = 2\n",
    "print(states)"
   ]
  },
  {
   "cell_type": "code",
   "execution_count": 43,
   "metadata": {},
   "outputs": [
    {
     "name": "stdout",
     "output_type": "stream",
     "text": [
      "a     True\n",
      "c    False\n",
      "d    False\n",
      "e     True\n",
      "Name: Utah, dtype: bool\n",
      "   Texas  Utah  California  Ohio\n",
      "a      1   2.0           2     0\n",
      "c      4   1.0           5     3\n",
      "d      7   2.0           8     6\n",
      "e     10   2.0          11     9\n"
     ]
    }
   ],
   "source": [
    "x = states.Utah.isnull()\n",
    "print(x)\n",
    "states.iloc[:].Utah[x] = 2.0\n",
    "print(states)"
   ]
  },
  {
   "cell_type": "code",
   "execution_count": 44,
   "metadata": {},
   "outputs": [
    {
     "name": "stdout",
     "output_type": "stream",
     "text": [
      "   Texas  Utah  California  Ohio\n",
      "a      1   3.0           2     0\n",
      "c      4   1.0           5     3\n",
      "d      7   3.0           8     6\n",
      "e     10   3.0          11     9\n"
     ]
    }
   ],
   "source": [
    "states.iloc[:].Utah[states.Utah == 2.0] = 3.0\n",
    "print(states)"
   ]
  },
  {
   "cell_type": "code",
   "execution_count": null,
   "metadata": {},
   "outputs": [],
   "source": []
  }
 ],
 "metadata": {
  "kernelspec": {
   "display_name": "Python 3",
   "language": "python",
   "name": "python3"
  },
  "language_info": {
   "codemirror_mode": {
    "name": "ipython",
    "version": 3
   },
   "file_extension": ".py",
   "mimetype": "text/x-python",
   "name": "python",
   "nbconvert_exporter": "python",
   "pygments_lexer": "ipython3",
   "version": "3.7.6"
  }
 },
 "nbformat": 4,
 "nbformat_minor": 4
}
